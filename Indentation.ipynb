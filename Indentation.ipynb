{
 "cells": [
  {
   "cell_type": "code",
   "execution_count": 18,
   "metadata": {},
   "outputs": [
    {
     "name": "stdout",
     "output_type": "stream",
     "text": [
      "passed\n",
      "Whoohoo ! Lets understand indentation ^_^\n"
     ]
    }
   ],
   "source": [
    "statues=\"Coding is fun\"\n",
    "if statues == \"Coding is fun\":\n",
    "    print('passed')\n",
    "else:\n",
    "    print('retake the course')\n",
    "print('Whoohoo ! Lets understand indentation ^_^')"
   ]
  }
 ],
 "metadata": {
  "kernelspec": {
   "display_name": "Python 3",
   "language": "python",
   "name": "python3"
  },
  "language_info": {
   "codemirror_mode": {
    "name": "ipython",
    "version": 3
   },
   "file_extension": ".py",
   "mimetype": "text/x-python",
   "name": "python",
   "nbconvert_exporter": "python",
   "pygments_lexer": "ipython3",
   "version": "3.8.3"
  }
 },
 "nbformat": 4,
 "nbformat_minor": 4
}
