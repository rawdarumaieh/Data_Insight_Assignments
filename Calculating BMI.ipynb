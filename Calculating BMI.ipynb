{
 "cells": [
  {
   "cell_type": "markdown",
   "metadata": {},
   "source": [
    "# Body Mass Index"
   ]
  },
  {
   "cell_type": "markdown",
   "metadata": {},
   "source": [
    "## The formula for calculating BMI is:\n"
   ]
  },
  {
   "cell_type": "markdown",
   "metadata": {},
   "source": [
    "**Body Mass in *kg* / (Body Height in *m*)^2**"
   ]
  },
  {
   "cell_type": "markdown",
   "metadata": {},
   "source": [
    "## BMI Categories:"
   ]
  },
  {
   "cell_type": "markdown",
   "metadata": {},
   "source": [
    "* Underweight = <18.5\n",
    "* Normal weight = 18.5–24.9\n",
    "* Overweight = 25–29.9\n",
    "* Obesity = BMI of 30 or greater"
   ]
  },
  {
   "cell_type": "code",
   "execution_count": 8,
   "metadata": {},
   "outputs": [],
   "source": [
    "#defining a function to calculate body mass index \n",
    "#the function takes the weight and height and return the bmi and print the statues of the body\n",
    "def bmi_calculate(m,h):\n",
    "    #calculating bmi using the formula\n",
    "    bmi=m/(h*h)\n",
    "    #checking in which category the body lies\n",
    "    if bmi <= 18.5:\n",
    "        print('Underweight',bmi)\n",
    "    elif bmi >=18.5 and bmi<24.9:\n",
    "        print('Normal weight',bmi)\n",
    "        \n",
    "    elif bmi >=25 and bmi <29.9:\n",
    "        print('Overweight',bmi)\n",
    "    else:\n",
    "        print('Obesity',bmi)"
   ]
  },
  {
   "cell_type": "code",
   "execution_count": 9,
   "metadata": {},
   "outputs": [
    {
     "name": "stdout",
     "output_type": "stream",
     "text": [
      "Input your height in m: 1.6\n",
      "Input your weight in Kilogram: 65\n",
      "Overweight 25.390624999999996\n"
     ]
    }
   ],
   "source": [
    "#taking input from the user \n",
    "height = float(input(\"Input your height in m: \"))\n",
    "weight = float(input(\"Input your weight in Kilogram: \"))\n",
    "#calling the function\n",
    "bmi_calculate(weight,height)"
   ]
  }
 ],
 "metadata": {
  "kernelspec": {
   "display_name": "Python 3",
   "language": "python",
   "name": "python3"
  },
  "language_info": {
   "codemirror_mode": {
    "name": "ipython",
    "version": 3
   },
   "file_extension": ".py",
   "mimetype": "text/x-python",
   "name": "python",
   "nbconvert_exporter": "python",
   "pygments_lexer": "ipython3",
   "version": "3.8.3"
  }
 },
 "nbformat": 4,
 "nbformat_minor": 4
}
